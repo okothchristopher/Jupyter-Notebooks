{
 "cells": [
  {
   "cell_type": "code",
   "execution_count": null,
   "metadata": {
    "collapsed": false,
    "jupyter": {
     "outputs_hidden": false
    }
   },
   "outputs": [],
   "source": [
    "%matplotlib inline"
   ]
  },
  {
   "cell_type": "markdown",
   "metadata": {},
   "source": [
    "\n",
    "Plotting the comparison of optimizers\n",
    "======================================\n",
    "\n",
    "Plots the results from the comparison of optimizers.\n",
    "\n",
    "\n"
   ]
  },
  {
   "cell_type": "code",
   "execution_count": 1,
   "metadata": {
    "collapsed": false,
    "jupyter": {
     "outputs_hidden": false
    }
   },
   "outputs": [
    {
     "ename": "FileNotFoundError",
     "evalue": "[Errno 2] No such file or directory: 'helper/compare_optimizers_py3.pkl'",
     "output_type": "error",
     "traceback": [
      "\u001b[0;31m---------------------------------------------------------------------------\u001b[0m",
      "\u001b[0;31mFileNotFoundError\u001b[0m                         Traceback (most recent call last)",
      "\u001b[0;32m<ipython-input-1-68d5831dbcf7>\u001b[0m in \u001b[0;36m<module>\u001b[0;34m\u001b[0m\n\u001b[1;32m      7\u001b[0m results = pickle.load(open(\n\u001b[1;32m      8\u001b[0m     \u001b[0;34m'helper/compare_optimizers_py%s.pkl'\u001b[0m \u001b[0;34m%\u001b[0m \u001b[0msys\u001b[0m\u001b[0;34m.\u001b[0m\u001b[0mversion_info\u001b[0m\u001b[0;34m[\u001b[0m\u001b[0;36m0\u001b[0m\u001b[0;34m]\u001b[0m\u001b[0;34m,\u001b[0m\u001b[0;34m\u001b[0m\u001b[0;34m\u001b[0m\u001b[0m\n\u001b[0;32m----> 9\u001b[0;31m     'rb'))\n\u001b[0m\u001b[1;32m     10\u001b[0m \u001b[0mn_methods\u001b[0m \u001b[0;34m=\u001b[0m \u001b[0mlen\u001b[0m\u001b[0;34m(\u001b[0m\u001b[0mlist\u001b[0m\u001b[0;34m(\u001b[0m\u001b[0mresults\u001b[0m\u001b[0;34m.\u001b[0m\u001b[0mvalues\u001b[0m\u001b[0;34m(\u001b[0m\u001b[0;34m)\u001b[0m\u001b[0;34m)\u001b[0m\u001b[0;34m[\u001b[0m\u001b[0;36m0\u001b[0m\u001b[0;34m]\u001b[0m\u001b[0;34m[\u001b[0m\u001b[0;34m'Rosenbrock  '\u001b[0m\u001b[0;34m]\u001b[0m\u001b[0;34m)\u001b[0m\u001b[0;34m\u001b[0m\u001b[0;34m\u001b[0m\u001b[0m\n\u001b[1;32m     11\u001b[0m \u001b[0mn_dims\u001b[0m \u001b[0;34m=\u001b[0m \u001b[0mlen\u001b[0m\u001b[0;34m(\u001b[0m\u001b[0mresults\u001b[0m\u001b[0;34m)\u001b[0m\u001b[0;34m\u001b[0m\u001b[0;34m\u001b[0m\u001b[0m\n",
      "\u001b[0;31mFileNotFoundError\u001b[0m: [Errno 2] No such file or directory: 'helper/compare_optimizers_py3.pkl'"
     ]
    }
   ],
   "source": [
    "import pickle\n",
    "import sys\n",
    "\n",
    "import numpy as np\n",
    "import matplotlib.pyplot as plt\n",
    "\n",
    "results = pickle.load(open(\n",
    "    'helper/compare_optimizers_py%s.pkl' % sys.version_info[0],\n",
    "    'rb'))\n",
    "n_methods = len(list(results.values())[0]['Rosenbrock  '])\n",
    "n_dims = len(results)\n",
    "\n",
    "symbols = 'o>*Ds'\n",
    "\n",
    "plt.figure(1, figsize=(10, 4))\n",
    "plt.clf()\n",
    "\n",
    "colors = plt.cm.nipy_spectral(np.linspace(0, 1, n_dims))[:, :3]\n",
    "\n",
    "method_names = list(list(results.values())[0]['Rosenbrock  '].keys())\n",
    "method_names.sort(key=lambda x: x[::-1], reverse=True)\n",
    "\n",
    "for n_dim_index, ((n_dim, n_dim_bench), color) in enumerate(\n",
    "            zip(sorted(results.items()), colors)):\n",
    "    for (cost_name, cost_bench), symbol in zip(sorted(n_dim_bench.items()),\n",
    "                    symbols):\n",
    "        for method_index, method_name, in enumerate(method_names):\n",
    "            this_bench = cost_bench[method_name]\n",
    "            bench = np.mean(this_bench)\n",
    "            plt.semilogy([method_index + .1*n_dim_index, ], [bench, ],\n",
    "                    marker=symbol, color=color)\n",
    "\n",
    "# Create a legend for the problem type\n",
    "for cost_name, symbol in zip(sorted(n_dim_bench.keys()),\n",
    "            symbols):\n",
    "    plt.semilogy([-10, ], [0, ], symbol, color='.5',\n",
    "            label=cost_name)\n",
    "\n",
    "plt.xticks(np.arange(n_methods), method_names, size=11)\n",
    "plt.xlim(-.2, n_methods - .5)\n",
    "plt.legend(loc='best', numpoints=1, handletextpad=0, prop=dict(size=12),\n",
    "          frameon=False)\n",
    "plt.ylabel('# function calls (a.u.)')\n",
    "\n",
    "# Create a second legend for the problem dimensionality\n",
    "plt.twinx()\n",
    "\n",
    "for n_dim, color in zip(sorted(results.keys()), colors):\n",
    "    plt.plot([-10, ], [0, ], 'o', color=color,\n",
    "            label='# dim: %i' % n_dim)\n",
    "plt.legend(loc=(.47, .07), numpoints=1, handletextpad=0, prop=dict(size=12),\n",
    "          frameon=False, ncol=2)\n",
    "plt.xlim(-.2, n_methods - .5)\n",
    "\n",
    "plt.xticks(np.arange(n_methods), method_names)\n",
    "plt.yticks(())\n",
    "\n",
    "plt.tight_layout()\n",
    "plt.show()"
   ]
  },
  {
   "cell_type": "code",
   "execution_count": null,
   "metadata": {},
   "outputs": [],
   "source": []
  }
 ],
 "metadata": {
  "kernelspec": {
   "display_name": "Python 3",
   "language": "python",
   "name": "python3"
  },
  "language_info": {
   "codemirror_mode": {
    "name": "ipython",
    "version": 3
   },
   "file_extension": ".py",
   "mimetype": "text/x-python",
   "name": "python",
   "nbconvert_exporter": "python",
   "pygments_lexer": "ipython3",
   "version": "3.7.3"
  }
 },
 "nbformat": 4,
 "nbformat_minor": 4
}
