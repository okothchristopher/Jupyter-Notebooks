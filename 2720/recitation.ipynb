{
 "cells": [
  {
   "cell_type": "code",
   "execution_count": 1,
   "metadata": {},
   "outputs": [
    {
     "data": {
      "text/plain": [
       "array([12.  , 34.53, 56.67])"
      ]
     },
     "execution_count": 1,
     "metadata": {},
     "output_type": "execute_result"
    }
   ],
   "source": [
    "# pandas demo\n",
    "import pandas as pd\n",
    "import numpy as np\n",
    "\n",
    "s=pd.Series({'one': 12, 'two':34.53, 'three':56.67})\n",
    "s_np =pd.Series()\n",
    "s.to_numpy()\n",
    "\n",
    "df= pd_read_csv('pass.csv')\n",
    "df = pd.read_csv('pass.csv', index_col ='Passenger_Id')\n",
    "s.describe()\n",
    "df['Cabin'].describe()\n",
    "df['Cabin'].fillna(value ={'cabin':34, 'PassengerId':3333})\n",
    "df.dropna(subset = ['Age'])\n",
    "df.values()\n",
    "df.pop('Cabin')\n",
    "\n",
    "\n",
    "\n",
    "\n"
   ]
  },
  {
   "cell_type": "code",
   "execution_count": null,
   "metadata": {},
   "outputs": [],
   "source": []
  }
 ],
 "metadata": {
  "kernelspec": {
   "display_name": "Python 3",
   "language": "python",
   "name": "python3"
  },
  "language_info": {
   "codemirror_mode": {
    "name": "ipython",
    "version": 3
   },
   "file_extension": ".py",
   "mimetype": "text/x-python",
   "name": "python",
   "nbconvert_exporter": "python",
   "pygments_lexer": "ipython3",
   "version": "3.7.3"
  }
 },
 "nbformat": 4,
 "nbformat_minor": 4
}
